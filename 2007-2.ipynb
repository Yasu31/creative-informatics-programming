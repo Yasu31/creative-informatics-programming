{
 "cells": [
  {
   "cell_type": "markdown",
   "metadata": {},
   "source": [
    "# 冬入試"
   ]
  },
  {
   "cell_type": "code",
   "execution_count": 1,
   "metadata": {},
   "outputs": [],
   "source": [
    "import re"
   ]
  },
  {
   "cell_type": "markdown",
   "metadata": {},
   "source": [
    "# (4)"
   ]
  },
  {
   "cell_type": "code",
   "execution_count": 2,
   "metadata": {},
   "outputs": [],
   "source": [
    "def renderGraph(graph, size):\n",
    "    '''\n",
    "    graph: {((0,0),(0,1)), ((1,2),(2,2), ...)}\n",
    "    '''\n",
    "    rendered = \"\"\n",
    "    # first create map with no edges\n",
    "    i = 0\n",
    "    while True:\n",
    "        rendered += \"+-\"*size+\"+\\n\"\n",
    "        if i==size:\n",
    "            break\n",
    "        rendered += \"| \"*size+\"|\\n\"\n",
    "        i += 1\n",
    "    # next create edges (i.e. delete the separators | and - as necessary)\n",
    "    for edge in graph:\n",
    "        if edge[0][0] == edge[1][0]:\n",
    "            # vertical connection\n",
    "            if abs(edge[0][1]-edge[1][1]) != 1:\n",
    "                print(\"error with edge: {}\".format(edge))\n",
    "            # get position of top cell\n",
    "            pos = (edge[0][0],min(edge[0][1],edge[1][1]))\n",
    "            posInString = 2*pos[0]+1 + 2*(size+1)*(2*pos[1]+2)\n",
    "        elif edge[0][1] == edge[1][1]:\n",
    "            # horizontal connection\n",
    "            if abs(edge[0][0]-edge[1][0]) != 1:\n",
    "                print(\"error with edge: {}\".format(edge))\n",
    "            # position of left cell\n",
    "            pos = (min(edge[0][0], edge[1][0]), edge[0][1])\n",
    "            posInString = 2*pos[0]+2 + 2*(size+1)*(2*pos[1]+1)\n",
    "        else:\n",
    "            print(\"error with edge: {}\".format(edge))\n",
    "        rendered = rendered[:posInString] + \" \" + rendered[posInString+1:]\n",
    "    print(rendered)"
   ]
  },
  {
   "cell_type": "code",
   "execution_count": 3,
   "metadata": {},
   "outputs": [
    {
     "name": "stdout",
     "output_type": "stream",
     "text": [
      "+-+-+-+\n",
      "| |   |\n",
      "+-+ + +\n",
      "| | | |\n",
      "+-+ +-+\n",
      "| | | |\n",
      "+-+-+-+\n",
      "\n",
      "+-+-+-+-+-+\n",
      "| | | | | |\n",
      "+-+-+-+-+-+\n",
      "| | | | | |\n",
      "+-+-+-+-+-+\n",
      "| | | | | |\n",
      "+-+-+-+-+-+\n",
      "| | | | | |\n",
      "+-+-+-+-+-+\n",
      "| | | | | |\n",
      "+-+-+-+-+-+\n",
      "\n"
     ]
    }
   ],
   "source": [
    "renderGraph({((2,0),(2,1)), ((1,1),(1,0)), ((1,2),(1,1)), ((2,0), (1,0))}, 3)\n",
    "renderGraph({}, 5)"
   ]
  },
  {
   "cell_type": "code",
   "execution_count": 4,
   "metadata": {},
   "outputs": [],
   "source": [
    "def loadGraph(filename):\n",
    "    blockedEdges = []\n",
    "    with open(filename, 'r') as f:\n",
    "        size = int(f.readline())\n",
    "        print(\"size\\t{}\".format(size))\n",
    "        for line in f:\n",
    "            pos = re.findall(r'(\\d+?)', line)\n",
    "            pos = [int(p) for p in pos]\n",
    "            direction = re.search('\\||-', line)\n",
    "            if direction.group(0) == '|':\n",
    "                blockedEdges.append(((pos[0],pos[1]), (pos[0], pos[1]+1)))\n",
    "            else:\n",
    "                blockedEdges.append(((pos[0],pos[1]), (pos[0]+1, pos[1])))\n",
    "    renderGraph(blockedEdges, size)\n",
    "    print(blockedEdges)\n",
    "    allEdges = []\n",
    "    for x in range(size):\n",
    "        for y in range(size):\n",
    "            if x+1 < size:\n",
    "                allEdges.append(((x,y), (x+1,y)))\n",
    "            if y+1 < size:\n",
    "                allEdges.append(((x,y), (x,y+1)))\n",
    "    graph = []\n",
    "    renderGraph(allEdges, size)\n",
    "    for edge in allEdges:\n",
    "        if edge in blockedEdges or (edge[1],edge[0]) in blockedEdges:\n",
    "            continue\n",
    "        graph.append(edge)\n",
    "    renderGraph(graph, size)\n",
    "    return graph"
   ]
  },
  {
   "cell_type": "code",
   "execution_count": 6,
   "metadata": {},
   "outputs": [
    {
     "name": "stdout",
     "output_type": "stream",
     "text": [
      "size\t4\n",
      "+-+-+-+-+\n",
      "| | | | |\n",
      "+ + + +-+\n",
      "|     | |\n",
      "+-+ +-+ +\n",
      "| | |   |\n",
      "+-+ + +-+\n",
      "| | | | |\n",
      "+-+-+-+-+\n",
      "\n",
      "[((0, 0), (0, 1)), ((1, 0), (1, 1)), ((2, 0), (2, 1)), ((0, 1), (1, 1)), ((1, 1), (2, 1)), ((1, 1), (1, 2)), ((3, 1), (3, 2)), ((1, 2), (1, 3)), ((2, 2), (2, 3)), ((2, 2), (3, 2))]\n",
      "+-+-+-+-+\n",
      "|       |\n",
      "+ + + + +\n",
      "|       |\n",
      "+ + + + +\n",
      "|       |\n",
      "+ + + + +\n",
      "|       |\n",
      "+-+-+-+-+\n",
      "\n",
      "+-+-+-+-+\n",
      "|       |\n",
      "+-+-+-+ +\n",
      "| | |   |\n",
      "+ +-+ +-+\n",
      "|     | |\n",
      "+ +-+-+ +\n",
      "|       |\n",
      "+-+-+-+-+\n",
      "\n"
     ]
    },
    {
     "data": {
      "text/plain": [
       "[((0, 0), (1, 0)),\n",
       " ((0, 1), (0, 2)),\n",
       " ((0, 2), (1, 2)),\n",
       " ((0, 2), (0, 3)),\n",
       " ((0, 3), (1, 3)),\n",
       " ((1, 0), (2, 0)),\n",
       " ((1, 2), (2, 2)),\n",
       " ((1, 3), (2, 3)),\n",
       " ((2, 0), (3, 0)),\n",
       " ((2, 1), (3, 1)),\n",
       " ((2, 1), (2, 2)),\n",
       " ((2, 3), (3, 3)),\n",
       " ((3, 0), (3, 1)),\n",
       " ((3, 2), (3, 3))]"
      ]
     },
     "execution_count": 6,
     "metadata": {},
     "output_type": "execute_result"
    }
   ],
   "source": [
    "loadGraph('resources/2007-2/maze1.txt')"
   ]
  },
  {
   "cell_type": "code",
   "execution_count": 8,
   "metadata": {},
   "outputs": [
    {
     "name": "stdout",
     "output_type": "stream",
     "text": [
      "size\t4\n",
      "+-+-+-+-+\n",
      "| |   | |\n",
      "+-+-+ +-+\n",
      "|       |\n",
      "+-+ +-+-+\n",
      "|   |   |\n",
      "+ + + + +\n",
      "| | |   |\n",
      "+-+-+-+-+\n",
      "\n",
      "[((1, 0), (2, 0)), ((2, 0), (2, 1)), ((0, 1), (1, 1)), ((1, 1), (2, 1)), ((1, 1), (1, 2)), ((2, 1), (3, 1)), ((0, 2), (1, 2)), ((0, 2), (0, 3)), ((1, 2), (1, 3)), ((2, 2), (2, 3)), ((2, 2), (3, 2)), ((2, 3), (3, 3)), ((3, 2), (3, 3))]\n",
      "+-+-+-+-+\n",
      "|       |\n",
      "+ + + + +\n",
      "|       |\n",
      "+ + + + +\n",
      "|       |\n",
      "+ + + + +\n",
      "|       |\n",
      "+-+-+-+-+\n",
      "\n",
      "+-+-+-+-+\n",
      "|   |   |\n",
      "+ + +-+ +\n",
      "| | | | |\n",
      "+ +-+ + +\n",
      "| |   | |\n",
      "+-+-+-+-+\n",
      "|     | |\n",
      "+-+-+-+-+\n",
      "\n"
     ]
    },
    {
     "data": {
      "text/plain": [
       "[((0, 0), (1, 0)),\n",
       " ((0, 0), (0, 1)),\n",
       " ((0, 1), (0, 2)),\n",
       " ((0, 3), (1, 3)),\n",
       " ((1, 0), (1, 1)),\n",
       " ((1, 2), (2, 2)),\n",
       " ((1, 3), (2, 3)),\n",
       " ((2, 0), (3, 0)),\n",
       " ((2, 1), (2, 2)),\n",
       " ((3, 0), (3, 1)),\n",
       " ((3, 1), (3, 2))]"
      ]
     },
     "execution_count": 8,
     "metadata": {},
     "output_type": "execute_result"
    }
   ],
   "source": [
    "loadGraph('resources/2007-2/maze2.txt')"
   ]
  },
  {
   "cell_type": "code",
   "execution_count": 9,
   "metadata": {},
   "outputs": [],
   "source": [
    "def bfs(graph, start, destination):\n",
    "    openSet = [[start]]\n",
    "    for i in range(100):\n",
    "        print(\"depth: {}...\".format(i))\n",
    "        newOpenSet = []\n",
    "        for openNode in openSet:\n",
    "            # expand each node\n",
    "            end = openNode[-1]\n",
    "            if end == destination:\n",
    "                print('end')\n",
    "                print(openNode)\n",
    "                return\n",
    "            for edge in graph:\n",
    "                if end == edge[0]:\n",
    "                    newOpenSet.append(openNode+[edge[1]])\n",
    "                elif end == edge[1]:\n",
    "                    newOpenSet.append(openNode+[edge[0]])\n",
    "        openSet = newOpenSet\n",
    "    print('max iterations exceeded')"
   ]
  },
  {
   "cell_type": "code",
   "execution_count": 11,
   "metadata": {},
   "outputs": [
    {
     "name": "stdout",
     "output_type": "stream",
     "text": [
      "size\t4\n",
      "+-+-+-+-+\n",
      "| | | | |\n",
      "+ + + +-+\n",
      "|     | |\n",
      "+-+ +-+ +\n",
      "| | |   |\n",
      "+-+ + +-+\n",
      "| | | | |\n",
      "+-+-+-+-+\n",
      "\n",
      "[((0, 0), (0, 1)), ((1, 0), (1, 1)), ((2, 0), (2, 1)), ((0, 1), (1, 1)), ((1, 1), (2, 1)), ((1, 1), (1, 2)), ((3, 1), (3, 2)), ((1, 2), (1, 3)), ((2, 2), (2, 3)), ((2, 2), (3, 2))]\n",
      "+-+-+-+-+\n",
      "|       |\n",
      "+ + + + +\n",
      "|       |\n",
      "+ + + + +\n",
      "|       |\n",
      "+ + + + +\n",
      "|       |\n",
      "+-+-+-+-+\n",
      "\n",
      "+-+-+-+-+\n",
      "|       |\n",
      "+-+-+-+ +\n",
      "| | |   |\n",
      "+ +-+ +-+\n",
      "|     | |\n",
      "+ +-+-+ +\n",
      "|       |\n",
      "+-+-+-+-+\n",
      "\n",
      "depth: 0...\n",
      "depth: 1...\n",
      "depth: 2...\n",
      "depth: 3...\n",
      "depth: 4...\n",
      "depth: 5...\n",
      "depth: 6...\n",
      "depth: 7...\n",
      "depth: 8...\n",
      "depth: 9...\n",
      "depth: 10...\n",
      "depth: 11...\n",
      "depth: 12...\n",
      "end\n",
      "[(0, 0), (1, 0), (2, 0), (3, 0), (3, 1), (2, 1), (2, 2), (1, 2), (0, 2), (0, 3), (1, 3), (2, 3), (3, 3)]\n"
     ]
    }
   ],
   "source": [
    "maze = loadGraph('resources/2007-2/maze1.txt')\n",
    "bfs(maze, (0,0), (3,3))"
   ]
  }
 ],
 "metadata": {
  "kernelspec": {
   "display_name": "Python 3",
   "language": "python",
   "name": "python3"
  },
  "language_info": {
   "codemirror_mode": {
    "name": "ipython",
    "version": 3
   },
   "file_extension": ".py",
   "mimetype": "text/x-python",
   "name": "python",
   "nbconvert_exporter": "python",
   "pygments_lexer": "ipython3",
   "version": "3.7.4"
  }
 },
 "nbformat": 4,
 "nbformat_minor": 4
}
